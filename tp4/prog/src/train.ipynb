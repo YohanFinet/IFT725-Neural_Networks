{
  "cells": [
    {
      "cell_type": "markdown",
      "metadata": {
        "id": "sCymwM3sxL1x"
      },
      "source": [
        "# Travail pratique 4 : Segmentation d'images 2D\n"
      ]
    },
    {
      "cell_type": "markdown",
      "metadata": {
        "id": "MMf4pwzpsF7r"
      },
      "source": [
        "### Monter le réperdoire de google drive"
      ]
    },
    {
      "cell_type": "code",
      "execution_count": 22,
      "metadata": {
        "id": "7OBFR6JUxmgo",
        "colab": {
          "base_uri": "https://localhost:8080/"
        },
        "outputId": "50c78f53-b181-44f3-dc93-a03c29b65a4a"
      },
      "outputs": [
        {
          "output_type": "stream",
          "name": "stdout",
          "text": [
            "Drive already mounted at /content/drive; to attempt to forcibly remount, call drive.mount(\"/content/drive\", force_remount=True).\n"
          ]
        }
      ],
      "source": [
        "from google.colab import drive\n",
        "drive.mount('/content/drive')\n",
        "!cp -r drive/MyDrive/IFT780/tp4/* ."
      ]
    },
    {
      "cell_type": "markdown",
      "metadata": {
        "id": "a0twoLTYyX2g"
      },
      "source": [
        "### Aller dans le bon répertoire et exécuter le code.\n",
        "\n"
      ]
    },
    {
      "cell_type": "code",
      "execution_count": 3,
      "metadata": {
        "id": "EwmhUZmkyg7y",
        "outputId": "0e58f9bc-0d2d-44b4-e7b6-c492ce3151ab",
        "colab": {
          "base_uri": "https://localhost:8080/"
        }
      },
      "outputs": [
        {
          "output_type": "stream",
          "name": "stdout",
          "text": [
            "\u001b[0m\u001b[01;34mdata\u001b[0m/  \u001b[01;34mdrive\u001b[0m/  README.md  requirements.txt  \u001b[01;34msample_data\u001b[0m/  \u001b[01;34msrc\u001b[0m/\n"
          ]
        }
      ],
      "source": [
        "ls"
      ]
    },
    {
      "cell_type": "code",
      "execution_count": 4,
      "metadata": {
        "id": "QVd0HBMazG-r",
        "outputId": "30e209b6-3a0f-4283-9b22-1959e8494030",
        "colab": {
          "base_uri": "https://localhost:8080/"
        }
      },
      "outputs": [
        {
          "output_type": "stream",
          "name": "stdout",
          "text": [
            "/content/src\n"
          ]
        }
      ],
      "source": [
        "cd src/"
      ]
    },
    {
      "cell_type": "code",
      "execution_count": 5,
      "metadata": {
        "id": "zp5ptcrUzMFU",
        "outputId": "26c8f208-f131-4243-8e89-62e4dd27baef",
        "colab": {
          "base_uri": "https://localhost:8080/"
        }
      },
      "outputs": [
        {
          "output_type": "stream",
          "name": "stdout",
          "text": [
            "fig1.png  \u001b[0m\u001b[01;34mmanage\u001b[0m/  \u001b[01;34m__pycache__\u001b[0m/  train.py  \u001b[01;34mutils\u001b[0m/\n",
            "fig2.png  \u001b[01;34mmodels\u001b[0m/  train.ipynb   UNet.pt\n"
          ]
        }
      ],
      "source": [
        "ls"
      ]
    },
    {
      "cell_type": "code",
      "execution_count": 7,
      "metadata": {
        "id": "9jusgay2IwW8",
        "colab": {
          "base_uri": "https://localhost:8080/"
        },
        "outputId": "f4af730c-0469-46c3-e23b-c28d39d78d47"
      },
      "outputs": [
        {
          "output_type": "stream",
          "name": "stdout",
          "text": [
            "usage: \n",
            " python3 train.py [model] [dataset] [hyper_parameters]\n",
            " python3 train.py --model UNet [hyper_parameters]\n",
            " python3 train.py --model UNet --predict\n",
            "\n",
            "This\n",
            "program\n",
            "allows to\n",
            "train\n",
            "different\n",
            "models of c\n",
            "lassificati\n",
            "on on\n",
            "different\n",
            "datasets.\n",
            "Be aware\n",
            "that when\n",
            "using UNet\n",
            "model there\n",
            "is no need\n",
            "to provide\n",
            "a dataset\n",
            "since UNet\n",
            "model only\n",
            "train on\n",
            "acdc\n",
            "dataset.\n",
            "\n",
            "optional arguments:\n",
            "  -h, --help\n",
            "    show this\n",
            "    help\n",
            "    message and\n",
            "    exit\n",
            "  --model {CnnVanilla,VggNet,AlexNet,ResNet,yourUNet,yourSegNet,UNet}\n",
            "  --dataset {cifar10,svhn}\n",
            "  --loss LOSS\n",
            "  --batch_size BATCH_SIZE\n",
            "    The size of\n",
            "    the\n",
            "    training\n",
            "    batch\n",
            "  --optimizer {Adam,SGD}\n",
            "    The\n",
            "    optimizer\n",
            "    to use for\n",
            "    training\n",
            "    the model\n",
            "  --num-epochs NUM_EPOCHS\n",
            "    The number\n",
            "    of epochs\n",
            "  --validation VALIDATION\n",
            "    Percentage\n",
            "    of training\n",
            "    data to use\n",
            "    for\n",
            "    validation\n",
            "  --lr LR\n",
            "    Learning\n",
            "    rate\n",
            "  --data_aug\n",
            "    Data augmen\n",
            "    tation\n",
            "  --predict PREDICT\n",
            "    Name of the\n",
            "    file\n",
            "    containing\n",
            "    model\n",
            "    weights\n",
            "    used to\n",
            "    make segmen\n",
            "    tation\n",
            "    prediction\n",
            "    on test\n",
            "    data\n"
          ]
        }
      ],
      "source": [
        "!python train.py --help"
      ]
    },
    {
      "cell_type": "markdown",
      "metadata": {
        "id": "W7O3unkXmo14"
      },
      "source": [
        "### Entraînement d'un UNet"
      ]
    },
    {
      "cell_type": "code",
      "execution_count": null,
      "metadata": {
        "id": "2LYg5wmCGTdd"
      },
      "outputs": [],
      "source": [
        "!python train.py --model=UNet --num-epochs=2 --batch_size=32 --lr=0.01"
      ]
    },
    {
      "cell_type": "code",
      "source": [
        "# Le fichier UNet_acc_valid_79.pt contient les poids d'un UNet ayant une justesse de 79%.\n",
        "!python train.py --model UNet --predict ./UNet_acc_valid_79.pt"
      ],
      "metadata": {
        "id": "f-kbZivsBL7-"
      },
      "execution_count": null,
      "outputs": []
    },
    {
      "cell_type": "markdown",
      "metadata": {
        "id": "RoiNSI7hXCkc"
      },
      "source": [
        "### Pour une raison quelconque, matplotlib ne fonctionne pas bien dans google Colab. Par consquent, une autre façon de visualiser les résultats est de sauvegarder les figures et de les afficher par la suite (voir cellule suivante)"
      ]
    },
    {
      "cell_type": "code",
      "execution_count": null,
      "metadata": {
        "id": "fIHppyI1CRC8"
      },
      "outputs": [],
      "source": [
        "from IPython.display import Image, display\n",
        "\n",
        "listOfImageNames = ['fig1.png', 'fig2.png', 'fig3.png', 'fig4.png']\n",
        "\n",
        "for imageName in listOfImageNames:\n",
        "    display(Image(filename=imageName))"
      ]
    },
    {
      "cell_type": "code",
      "source": [],
      "metadata": {
        "id": "xU2nHeTFka1n"
      },
      "execution_count": null,
      "outputs": []
    }
  ],
  "metadata": {
    "colab": {
      "provenance": []
    },
    "kernelspec": {
      "name": "python3",
      "display_name": "Python 3"
    },
    "accelerator": "GPU"
  },
  "nbformat": 4,
  "nbformat_minor": 0
}