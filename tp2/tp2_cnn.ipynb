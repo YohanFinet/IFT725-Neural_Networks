{
 "cells": [
  {
   "cell_type": "code",
   "execution_count": 1,
   "metadata": {},
   "outputs": [],
   "source": [
    "# from google.colab import drive\n",
    "# drive.mount('/content/drive')\n",
    "# !cp -r drive/MyDrive/IFT780/TP2/prog/* ."
   ]
  },
  {
   "cell_type": "markdown",
   "metadata": {},
   "source": [
    "# Réseaux à convolution\n",
    "\n",
    "Dans ce notebook, nous crérons un réseau à convolution.  Mais avant de commencer, assurez-vous d'avoir bien compris les notebooks sur la **convolution**, la **batch-norm** et le **dropout**.\n",
    "\n",
    "Ici, nous utiliserons pour l'essentiel le code dans les fichiers suivants :\n",
    "\n",
    "    model/Model.py\n",
    "    layers/Conv.py \n",
    "    utils/model_loss.py\n",
    "    layers/MaxPool.py\n",
    "    \n",
    "Comme au tp1, la classe **Model** \"crée\" un réseau de neurones en ajoutant successivement des couches et une fonction de perte.\n"
   ]
  },
  {
   "cell_type": "code",
   "execution_count": 2,
   "metadata": {},
   "outputs": [],
   "source": [
    "import random\n",
    "import numpy as np\n",
    "from utils.data_utils import load_CIFAR10\n",
    "import matplotlib.pyplot as plt\n",
    "%matplotlib inline\n",
    "plt.rcParams['figure.figsize'] = (10.0, 8.0) # set default size of plots\n",
    "plt.rcParams['image.interpolation'] = 'nearest'\n",
    "plt.rcParams['image.cmap'] = 'gray'\n",
    "\n",
    "# Pour automatiquement recharger les modules externes\n",
    "# voir http://stackoverflow.com/questions/1907993/autoreload-of-modules-in-ipython\n",
    "%load_ext autoreload\n",
    "%autoreload 2"
   ]
  },
  {
   "cell_type": "code",
   "execution_count": 3,
   "metadata": {},
   "outputs": [],
   "source": [
    "def create_toy_data():\n",
    "    np.random.seed(1)\n",
    "    X = 10 * np.random.randn(num_inputs, channels, input_size, input_size)\n",
    "    y = np.array([0, 1, 2, 1, 2])\n",
    "    return X, y\n"
   ]
  },
  {
   "cell_type": "code",
   "execution_count": 4,
   "metadata": {},
   "outputs": [
    {
     "name": "stdout",
     "output_type": "stream",
     "text": [
      "C:\\Users\\Alexandre\\Documents\\UdeS\\IFT780\\TP\\tp2\\utils\\cython\n",
      "C:\\Users\\Alexandre\\Documents\\UdeS\\IFT780\\TP\\tp2\n"
     ]
    },
    {
     "name": "stderr",
     "output_type": "stream",
     "text": [
      "'.' n'est pas reconnu en tant que commande interne\n",
      "ou externe, un programme ex‚cutable ou un fichier de commandes.\n"
     ]
    }
   ],
   "source": [
    "%cd utils/cython/\n",
    "!./build_cython.sh\n",
    "%cd ../../"
   ]
  },
  {
   "cell_type": "markdown",
   "metadata": {},
   "source": [
    "## Modèle simple\n",
    "\n",
    "Commençons avec un modèle très simple à une couche cachée.  Pour la fonction:\n",
    "\n",
    "    cross_entropy_loss\n",
    "    \n",
    "vous pouvez récupérer votre code du tp1\n"
   ]
  },
  {
   "cell_type": "code",
   "execution_count": 5,
   "metadata": {},
   "outputs": [],
   "source": [
    "from model.Model import Model\n",
    "from layers.Conv import Conv2DNaive\n",
    "from utils.model_loss import cross_entropy_loss\n",
    "\n",
    "num_filters = 3\n",
    "filter_size = 4\n",
    "channels = 1\n",
    "num_inputs = 5\n",
    "input_size = 4\n",
    "padding = 0\n",
    "stride = 1\n",
    "\n",
    "np.random.seed(0)\n",
    "model = Model()\n",
    "layer = Conv2DNaive(num_filters, filter_size=filter_size, channels=channels, \n",
    "                        stride=stride, padding=padding, weight_scale=1e-1)\n",
    "model.add(layer)\n",
    "model.add_loss(cross_entropy_loss)"
   ]
  },
  {
   "cell_type": "code",
   "execution_count": 6,
   "metadata": {},
   "outputs": [
    {
     "name": "stdout",
     "output_type": "stream",
     "text": [
      "Your scores:\n",
      "[[  2.26107191   1.90356006 -10.7996371 ]\n",
      " [ -4.03277981   6.72254124   0.36232013]\n",
      " [ -0.33115169   3.30740614   8.24078811]\n",
      " [ -0.78558615   3.5691293   -5.41204248]\n",
      " [  7.16759091  -7.01187203  -4.51633761]]\n",
      "\n",
      "correct scores:\n",
      "[[  2.26107191   1.90356006 -10.7996371 ]\n",
      " [ -4.03277981   6.72254124   0.36232013]\n",
      " [ -0.33115169   3.30740614   8.24078811]\n",
      " [ -0.78558615   3.5691293   -5.41204248]\n",
      " [  7.16759091  -7.01187203  -4.51633761]]\n",
      "\n",
      "Difference between your scores and correct scores:  3.1734064542821017e-08\n"
     ]
    }
   ],
   "source": [
    "##############################################################################\n",
    "# TODO: Récupérez le code \"naïf\" de la convolution que vous avez fait dans   #\n",
    "#   le notebook sur la convolution et le mettre dans la fonction \"forward\"   #\n",
    "#   de la classe Conv2DNaive dans le fichier Conv.py.                        #\n",
    "#   S'il n'y a pas de bug, le test suivant devrait passer                    #\n",
    "##############################################################################\n",
    "X, y = create_toy_data()\n",
    "scores = model.forward(X).reshape(num_inputs, num_filters)\n",
    "correct_scores = np.asarray([[2.26107191, 1.90356006, -10.7996371 ],\n",
    "                             [-4.03277981, 6.72254124, 0.36232013],\n",
    "                             [-0.33115169, 3.30740614, 8.24078811],\n",
    "                             [-0.78558615, 3.5691293, -5.41204248],\n",
    "                             [7.16759091, -7.01187203, -4.51633761]])\n",
    "\n",
    "print('Your scores:')\n",
    "print(scores)\n",
    "print()\n",
    "print('correct scores:')\n",
    "print(correct_scores)\n",
    "print()\n",
    "\n",
    "# La différence devrait être assez basse, en principe inférieure à 1e-7.\n",
    "print('Difference between your scores and correct scores: ', np.sum(np.abs(scores - correct_scores)))"
   ]
  },
  {
   "cell_type": "code",
   "execution_count": 7,
   "metadata": {},
   "outputs": [
    {
     "name": "stdout",
     "output_type": "stream",
     "text": [
      "Loss:  2.478083827448259\n",
      "Correct loss:  2.47808382744825\n",
      "Difference between your loss and correct loss:  8.881784197001252e-15\n"
     ]
    }
   ],
   "source": [
    "loss, dScores, _ = model.calculate_loss(scores, y, 0.1)\n",
    "correct_loss = 2.47808382744825\n",
    "\n",
    "# on devrait obtenir une erreur  inférieure à environ 1e-12.\n",
    "print('Loss: ', loss)\n",
    "print('Correct loss: ', correct_loss)\n",
    "print('Difference between your loss and correct loss: ', np.sum(np.abs(loss - correct_loss)))"
   ]
  },
  {
   "cell_type": "code",
   "execution_count": 8,
   "metadata": {},
   "outputs": [],
   "source": [
    "##############################################################################\n",
    "# TODO: Implémenter la méthode backward (rétro-propagation) de la classe de  #\n",
    "# couche Conv2DNaive.                                                        #\n",
    "##############################################################################\n",
    "\n",
    "_ = model.backward(dScores.reshape(5, 3, 1, 1))"
   ]
  },
  {
   "cell_type": "code",
   "execution_count": 9,
   "metadata": {},
   "outputs": [
    {
     "name": "stdout",
     "output_type": "stream",
     "text": [
      "L0-W max relative error: 9.504079e-10\n",
      "L0-b max relative error: 8.742832e-11\n"
     ]
    }
   ],
   "source": [
    "from utils.gradients import evaluate_numerical_gradient\n",
    "\n",
    "# Retourne l'erreur relative maximale des matrices de gradients passées en paramètre.\n",
    "# Pour chaque paramètre, l'erreur relative devrait être inférieure à environ 1e-8.\n",
    "def rel_error(x, y):\n",
    "    rel = np.abs(x - y) / (np.maximum(1e-8, np.abs(x) + np.abs(y)))\n",
    "    return np.max(rel)\n",
    "\n",
    "gradients = model.gradients()\n",
    "model_params = model.parameters()\n",
    "\n",
    "for layer_name, layer_params in model_params.items():\n",
    "    for param_name, _ in layer_params.items():\n",
    "        grad_num = evaluate_numerical_gradient(X, y, model, layer_name, param_name, reg=0.1)\n",
    "        max_error = rel_error(grad_num, gradients[layer_name][param_name])\n",
    "        \n",
    "        print('%s max relative error: %e' % (layer_name + '-' + param_name, max_error))"
   ]
  },
  {
   "cell_type": "code",
   "execution_count": null,
   "metadata": {},
   "outputs": [],
   "source": []
  },
  {
   "cell_type": "markdown",
   "metadata": {},
   "source": [
    "# Test de différentes implantations de la convolution\n",
    "\n",
    "    version naive\n",
    "    version \"matricée\"\n",
    "    version \"optimisée\"\n",
    "\n",
    "La version optimisée implique l'utilisation de code **\"cython\"**\n"
   ]
  },
  {
   "cell_type": "code",
   "execution_count": 10,
   "metadata": {},
   "outputs": [],
   "source": [
    "from model.Model import Model\n",
    "from layers.Conv import Conv2DNaive, Conv2DMat, Conv2DCython\n",
    "from utils.model_loss import cross_entropy_loss\n",
    "\n",
    "num_filters = 3\n",
    "filter_size = 4\n",
    "channels = 1\n",
    "\n",
    "num_inputs = 5\n",
    "input_size = 4\n",
    "padding = 0\n",
    "stride = 1\n",
    "\n",
    "def create_toy_model():\n",
    "    np.random.seed(0)\n",
    "    model = Model()\n",
    "    layer = Conv2DNaive(num_filters, filter_size=filter_size, channels=channels, \n",
    "                        stride=stride, padding=padding, weight_scale=1e-1)\n",
    "    model.add(layer)\n",
    "    model.add_loss(cross_entropy_loss)\n",
    "    return model\n",
    "\n",
    "def create_toy_model_mat():\n",
    "    np.random.seed(0)\n",
    "    model = Model()\n",
    "    layer = Conv2DMat(num_filters, filter_size=filter_size, channels=channels, \n",
    "                      stride=stride, padding=padding, weight_scale=1e-1)\n",
    "    model.add(layer)\n",
    "    model.add_loss(cross_entropy_loss)\n",
    "    return model\n",
    "\n",
    "def create_toy_model_fast():\n",
    "    np.random.seed(0)\n",
    "    model = Model()\n",
    "    layer = Conv2DCython(num_filters, filter_size=filter_size, channels=channels, \n",
    "                         stride=stride, padding=padding, weight_scale=1e-1)\n",
    "    model.add(layer)\n",
    "    model.add_loss(cross_entropy_loss)\n",
    "    return model\n",
    "\n",
    "model_naive = create_toy_model()\n",
    "model_mat = create_toy_model_mat()\n",
    "model_fast = create_toy_model_fast()\n",
    "X, y = create_toy_data()"
   ]
  },
  {
   "cell_type": "markdown",
   "metadata": {},
   "source": [
    "<font size=\"4\">CNN avec matricisation des entrées</font>\n",
    "\n",
    "Ici le code \"forward\" et \"backward\" de la convolution \"matricée\" vous est fourni.  En principe, tout devrait fonctionner."
   ]
  },
  {
   "cell_type": "code",
   "execution_count": 11,
   "metadata": {},
   "outputs": [
    {
     "name": "stdout",
     "output_type": "stream",
     "text": [
      "Your scores:\n",
      "[[  2.26107191   1.90356006 -10.7996371 ]\n",
      " [ -4.03277981   6.72254124   0.36232013]\n",
      " [ -0.33115169   3.30740614   8.24078811]\n",
      " [ -0.78558615   3.5691293   -5.41204248]\n",
      " [  7.16759091  -7.01187203  -4.51633761]]\n",
      "\n",
      "correct scores:\n",
      "[[  2.26107191   1.90356006 -10.7996371 ]\n",
      " [ -4.03277981   6.72254124   0.36232013]\n",
      " [ -0.33115169   3.30740614   8.24078811]\n",
      " [ -0.78558615   3.5691293   -5.41204248]\n",
      " [  7.16759091  -7.01187203  -4.51633761]]\n",
      "\n",
      "Difference between your scores and correct scores:  3.1734066208155554e-08\n"
     ]
    }
   ],
   "source": [
    "scores = model_mat.forward(X).reshape(num_inputs, num_filters)\n",
    "correct_scores = np.asarray([[2.26107191, 1.90356006, -10.7996371 ],\n",
    "                             [-4.03277981, 6.72254124, 0.36232013],\n",
    "                             [-0.33115169, 3.30740614, 8.24078811],\n",
    "                             [-0.78558615, 3.5691293, -5.41204248],\n",
    "                             [7.16759091, -7.01187203, -4.51633761]])\n",
    "\n",
    "print('Your scores:')\n",
    "print(scores)\n",
    "print()\n",
    "print('correct scores:')\n",
    "print(correct_scores)\n",
    "print()\n",
    "\n",
    "# La différence devrait être assez basse, en principe inférieure à 1e-7.\n",
    "print('Difference between your scores and correct scores: ', np.sum(np.abs(scores - correct_scores)))"
   ]
  },
  {
   "cell_type": "code",
   "execution_count": 12,
   "metadata": {},
   "outputs": [
    {
     "name": "stdout",
     "output_type": "stream",
     "text": [
      "Loss:  2.478083827448259\n",
      "Correct loss:  2.47808382744825\n",
      "Difference between your loss and correct loss:  8.881784197001252e-15\n"
     ]
    }
   ],
   "source": [
    "loss, dScores_mat, _ = model_mat.calculate_loss(scores, y, 0.1)\n",
    "correct_loss = 2.47808382744825\n",
    "\n",
    "# on devrait obtenir une erreur  inférieure à environ 1e-12.\n",
    "print('Loss: ', loss)\n",
    "print('Correct loss: ', correct_loss)\n",
    "print('Difference between your loss and correct loss: ', np.sum(np.abs(loss - correct_loss)))"
   ]
  },
  {
   "cell_type": "code",
   "execution_count": 13,
   "metadata": {},
   "outputs": [],
   "source": [
    "##############################################################################\n",
    "# Normalement cette ligne devrait fonctionner car le code est donnée         #\n",
    "##############################################################################\n",
    "\n",
    "_ = model_mat.backward(dScores_mat.reshape(5, 3, 1, 1))"
   ]
  },
  {
   "cell_type": "code",
   "execution_count": 14,
   "metadata": {},
   "outputs": [
    {
     "name": "stdout",
     "output_type": "stream",
     "text": [
      "L0-W max relative error: 9.504074e-10\n",
      "L0-b max relative error: 8.742806e-11\n"
     ]
    }
   ],
   "source": [
    "gradients = model_mat.gradients()\n",
    "model_params = model_mat.parameters()\n",
    "\n",
    "for layer_name, layer_params in model_params.items():\n",
    "    for param_name, _ in layer_params.items():\n",
    "        grad_num = evaluate_numerical_gradient(X, y, model_mat, layer_name, param_name, reg=0.1)\n",
    "        max_error = rel_error(grad_num, gradients[layer_name][param_name])\n",
    "        \n",
    "        print('%s max relative error: %e' % (layer_name + '-' + param_name, max_error))"
   ]
  },
  {
   "cell_type": "markdown",
   "metadata": {},
   "source": [
    "<font size=\"4\">CNN vectorisé, utilise cython</font>\n",
    "\n",
    "Ici le code \"forward\" et \"backward\" de la convolution \"cythonisée\" vous est fourni."
   ]
  },
  {
   "cell_type": "code",
   "execution_count": 15,
   "metadata": {},
   "outputs": [
    {
     "name": "stdout",
     "output_type": "stream",
     "text": [
      "Your scores:\n",
      "[[  2.26107191   1.90356006 -10.7996371 ]\n",
      " [ -4.03277981   6.72254124   0.36232013]\n",
      " [ -0.33115169   3.30740614   8.24078811]\n",
      " [ -0.78558615   3.5691293   -5.41204248]\n",
      " [  7.16759091  -7.01187203  -4.51633761]]\n",
      "\n",
      "correct scores:\n",
      "[[  2.26107191   1.90356006 -10.7996371 ]\n",
      " [ -4.03277981   6.72254124   0.36232013]\n",
      " [ -0.33115169   3.30740614   8.24078811]\n",
      " [ -0.78558615   3.5691293   -5.41204248]\n",
      " [  7.16759091  -7.01187203  -4.51633761]]\n",
      "\n",
      "Difference between your scores and correct scores:  3.173406432077641e-08\n"
     ]
    }
   ],
   "source": [
    "##############################################################################\n",
    "# Normalement ces lignes devraient fonctionner car le code est donnée        #\n",
    "##############################################################################\n",
    "\n",
    "scores = model_fast.forward(X).reshape(num_inputs, num_filters)\n",
    "correct_scores = np.asarray([[2.26107191, 1.90356006, -10.7996371 ],\n",
    "                             [-4.03277981, 6.72254124, 0.36232013],\n",
    "                             [-0.33115169, 3.30740614, 8.24078811],\n",
    "                             [-0.78558615, 3.5691293, -5.41204248],\n",
    "                             [7.16759091, -7.01187203, -4.51633761]])\n",
    "\n",
    "print('Your scores:')\n",
    "print(scores)\n",
    "print()\n",
    "print('correct scores:')\n",
    "print(correct_scores)\n",
    "print()\n",
    "\n",
    "# La différence devrait être assez basse, en principe inférieure à 1e-7.\n",
    "print('Difference between your scores and correct scores: ', np.sum(np.abs(scores - correct_scores)))"
   ]
  },
  {
   "cell_type": "code",
   "execution_count": 16,
   "metadata": {},
   "outputs": [
    {
     "name": "stdout",
     "output_type": "stream",
     "text": [
      "Loss:  2.4780838274482586\n",
      "Correct loss:  2.47808382744825\n",
      "Difference between your loss and correct loss:  8.43769498715119e-15\n"
     ]
    }
   ],
   "source": [
    "loss, dScores_fast, _ = model_fast.calculate_loss(scores, y, 0.1)\n",
    "correct_loss = 2.47808382744825\n",
    "\n",
    "# on devrait obtenir une erreur  inférieure à environ 1e-12.\n",
    "print('Loss: ', loss)\n",
    "print('Correct loss: ', correct_loss)\n",
    "print('Difference between your loss and correct loss: ', np.sum(np.abs(loss - correct_loss)))"
   ]
  },
  {
   "cell_type": "code",
   "execution_count": 17,
   "metadata": {},
   "outputs": [],
   "source": [
    "##############################################################################\n",
    "# Normalement cette ligne devrait fonctionner car le code est donnée         #\n",
    "##############################################################################\n",
    "\n",
    "_ = model_fast.backward(dScores_fast.reshape(5, 3, 1, 1))"
   ]
  },
  {
   "cell_type": "code",
   "execution_count": 18,
   "metadata": {},
   "outputs": [
    {
     "name": "stdout",
     "output_type": "stream",
     "text": [
      "L0-W max relative error: 9.383004e-10\n",
      "L0-b max relative error: 8.742806e-11\n"
     ]
    }
   ],
   "source": [
    "gradients = model_fast.gradients()\n",
    "model_params = model_fast.parameters()\n",
    "\n",
    "# L'erreur devrait être inférieure à 1e-5\n",
    "for layer_name, layer_params in model_params.items():\n",
    "    for param_name, _ in layer_params.items():\n",
    "        grad_num = evaluate_numerical_gradient(X, y, model_fast, layer_name, param_name, reg=0.1)\n",
    "        max_error = rel_error(grad_num, gradients[layer_name][param_name])\n",
    "        \n",
    "        print('%s max relative error: %e' % (layer_name + '-' + param_name, max_error))"
   ]
  },
  {
   "cell_type": "markdown",
   "metadata": {},
   "source": [
    "<font size=\"4\">Comparaison des performances</font>\n",
    "\n",
    "Maintenant, voyons à quel point le type d'implantation d'une convolution peut avoir un impact sur la rapidité d'exécution."
   ]
  },
  {
   "cell_type": "markdown",
   "metadata": {},
   "source": [
    "<font size=\"3\">Forward</font>"
   ]
  },
  {
   "cell_type": "code",
   "execution_count": 19,
   "metadata": {},
   "outputs": [],
   "source": [
    "model_naive = create_toy_model()\n",
    "model_mat = create_toy_model_mat()\n",
    "model_fast = create_toy_model_fast()"
   ]
  },
  {
   "cell_type": "code",
   "execution_count": 20,
   "metadata": {},
   "outputs": [
    {
     "name": "stdout",
     "output_type": "stream",
     "text": [
      "version naive...\n",
      "136 µs ± 2.49 µs per loop (mean ± std. dev. of 7 runs, 10,000 loops each)\n",
      "version matricée...\n",
      "34.3 µs ± 1.76 µs per loop (mean ± std. dev. of 7 runs, 10,000 loops each)\n",
      "version rapide cythonisée...\n",
      "26.3 µs ± 704 ns per loop (mean ± std. dev. of 7 runs, 10,000 loops each)\n"
     ]
    }
   ],
   "source": [
    "print(\"version naive...\")\n",
    "%timeit model_naive.forward(X)\n",
    "print(\"version matricée...\")\n",
    "%timeit model_mat.forward(X)\n",
    "print(\"version rapide cythonisée...\")\n",
    "%timeit model_fast.forward(X)"
   ]
  },
  {
   "cell_type": "markdown",
   "metadata": {},
   "source": [
    "<font size=\"3\">Rétro-propagation</font>"
   ]
  },
  {
   "cell_type": "code",
   "execution_count": 21,
   "metadata": {},
   "outputs": [],
   "source": [
    "model_naive = create_toy_model()\n",
    "model_mat = create_toy_model_mat()\n",
    "model_fast = create_toy_model_fast()"
   ]
  },
  {
   "cell_type": "code",
   "execution_count": 22,
   "metadata": {},
   "outputs": [],
   "source": [
    "scores_naive = model_naive.forward(X).reshape(num_inputs, num_filters)\n",
    "loss_naive, dScores_naive, _ = model_naive.calculate_loss(scores, y, 0.1)\n",
    "\n",
    "scores_mat = model_mat.forward(X).reshape(num_inputs, num_filters)\n",
    "loss_mat, dScores_mat, _ = model_fast.calculate_loss(scores, y, 0.1)\n",
    "\n",
    "scores_fast = model_fast.forward(X).reshape(num_inputs, num_filters)\n",
    "loss_fast, dScores_fast, _ = model_fast.calculate_loss(scores, y, 0.1)"
   ]
  },
  {
   "cell_type": "code",
   "execution_count": 23,
   "metadata": {},
   "outputs": [
    {
     "name": "stdout",
     "output_type": "stream",
     "text": [
      "Loss bonne!\n",
      "Gradients bons!\n"
     ]
    }
   ],
   "source": [
    "# En principe, les loss et des gradients devraient être les mêmes\n",
    "\n",
    "if np.abs(loss_naive - loss_mat) + \\\n",
    "    np.abs(loss_naive - loss_fast) + \\\n",
    "    np.abs(loss_mat - loss_fast) > 1e-6:\n",
    "    print(\"Erreur!\")\n",
    "else:\n",
    "    print(\"Loss bonne!\")    \n",
    "\n",
    "if (np.abs(dScores_mat - dScores_naive)).flatten().mean() + \\\n",
    "    (np.abs(dScores_fast - dScores_naive)).flatten().mean() + \\\n",
    "    (np.abs(dScores_mat - dScores_fast)).flatten().mean() > 1e-6 :\n",
    "    print(\"Erreur!\")\n",
    "else:\n",
    "    print(\"Gradients bons!\")    \n"
   ]
  },
  {
   "cell_type": "code",
   "execution_count": 24,
   "metadata": {},
   "outputs": [
    {
     "name": "stdout",
     "output_type": "stream",
     "text": [
      "version naive...\n",
      "121 µs ± 1.81 µs per loop (mean ± std. dev. of 7 runs, 10,000 loops each)\n",
      "version matricée...\n",
      "27.8 µs ± 398 ns per loop (mean ± std. dev. of 7 runs, 10,000 loops each)\n",
      "version rapide cythonisée...\n",
      "8.88 µs ± 298 ns per loop (mean ± std. dev. of 7 runs, 100,000 loops each)\n"
     ]
    }
   ],
   "source": [
    "print(\"version naive...\")\n",
    "%timeit _ = model.backward(dScores_naive.reshape(5, 3, 1, 1))\n",
    "print(\"version matricée...\")\n",
    "%timeit _ = model_mat.backward(dScores_mat.reshape(5, 3, 1, 1))\n",
    "print(\"version rapide cythonisée...\")\n",
    "%timeit _ = model_fast.backward(dScores_fast.reshape(5, 3, 1, 1))"
   ]
  },
  {
   "cell_type": "markdown",
   "metadata": {},
   "source": [
    "<font size=\"5\">CNN à 2 couches</font>\n",
    "\n",
    "Ici nous testerons des réseaux à 2 couches convolutives.  En principe, si le code des dernières cellules fonctionne, le code des prochaines cellules devrait fonctionner!\n"
   ]
  },
  {
   "cell_type": "code",
   "execution_count": 25,
   "metadata": {},
   "outputs": [],
   "source": [
    "from model.Model import Model\n",
    "from layers.Conv import Conv2DNaive, Conv2DMat, Conv2DCython\n",
    "from utils.model_loss import cross_entropy_loss\n",
    "\n",
    "num_filters = 4\n",
    "filter_size = 3\n",
    "channels = 2\n",
    "\n",
    "num_inputs = 5\n",
    "input_size = 5\n",
    "padding = 1\n",
    "stride = 2\n",
    "\n",
    "num_classes = 3\n",
    "\n",
    "def create_toy_model():\n",
    "    np.random.seed(0)\n",
    "    model = Model()\n",
    "    layer0 = Conv2DNaive(num_filters, filter_size=filter_size, channels=channels, \n",
    "                         stride=stride, padding=padding, weight_scale=1e-1)\n",
    "    layer1 = Conv2DNaive(num_classes, filter_size=3, channels=num_filters, \n",
    "                         weight_scale=1e-1)\n",
    "    \n",
    "    model.add(layer0)\n",
    "    model.add(layer1)\n",
    "    model.add_loss(cross_entropy_loss)\n",
    "    return model\n",
    "\n",
    "def create_toy_model_mat():\n",
    "    np.random.seed(0)\n",
    "    model = Model()\n",
    "    layer0 = Conv2DMat(num_filters, filter_size=filter_size, channels=channels, \n",
    "                       stride=stride, padding=padding, weight_scale=1e-1)\n",
    "    layer1 = Conv2DMat(num_classes, filter_size=3, channels=num_filters, \n",
    "                       weight_scale=1e-1)\n",
    "    model.add(layer0)\n",
    "    model.add(layer1)\n",
    "    model.add_loss(cross_entropy_loss)\n",
    "    return model\n",
    "\n",
    "def create_toy_model_fast():\n",
    "    np.random.seed(0)\n",
    "    model = Model()\n",
    "    layer0 = Conv2DCython(num_filters, filter_size=filter_size, channels=channels, \n",
    "                          stride=stride, padding=padding, weight_scale=1e-1)\n",
    "    layer1 = Conv2DCython(num_classes, filter_size=3, channels=num_filters, \n",
    "                          weight_scale=1e-1)\n",
    "    model.add(layer0)\n",
    "    model.add(layer1)\n",
    "    model.add_loss(cross_entropy_loss)\n",
    "    return model\n",
    "\n",
    "def create_toy_data():\n",
    "    np.random.seed(1)\n",
    "    X = 10 * np.random.randn(num_inputs, channels, input_size, input_size)\n",
    "    y = np.array([0, 1, 2, 1, 2])\n",
    "    return X, y\n",
    "\n",
    "model_naive = create_toy_model()\n",
    "model_mat = create_toy_model_mat()\n",
    "model_fast = create_toy_model_fast()\n",
    "X, y = create_toy_data()"
   ]
  },
  {
   "cell_type": "code",
   "execution_count": 26,
   "metadata": {},
   "outputs": [],
   "source": [
    "scores_naive = model_naive.forward(X).reshape(num_inputs, num_classes)\n",
    "loss_naive, dScores_naive, _ = model_naive.calculate_loss(scores_naive, y, 0.1)\n",
    "\n",
    "scores_mat = model_mat.forward(X).reshape(num_inputs, num_classes)\n",
    "loss_mat, dScores_mat, _ = model_mat.calculate_loss(scores_mat, y, 0.1)\n",
    "\n",
    "scores_fast = model_fast.forward(X).reshape(num_inputs, num_classes)\n",
    "loss_fast, dScores_fast, _ = model_fast.calculate_loss(scores_fast, y, 0.1)"
   ]
  },
  {
   "cell_type": "code",
   "execution_count": 27,
   "metadata": {},
   "outputs": [
    {
     "name": "stdout",
     "output_type": "stream",
     "text": [
      "Loss bonne!\n",
      "Gradients bons!\n"
     ]
    }
   ],
   "source": [
    "# En principe, les loss et des gradients devraient être les mêmes\n",
    "\n",
    "if np.abs(loss_naive - loss_mat) + \\\n",
    "    np.abs(loss_naive - loss_fast) + \\\n",
    "    np.abs(loss_mat - loss_fast) > 1e-6:\n",
    "    print(\"Erreur!\")\n",
    "else:\n",
    "    print(\"Loss bonne!\")    \n",
    "\n",
    "if (np.abs(dScores_mat - dScores_naive)).flatten().mean() + \\\n",
    "    (np.abs(dScores_fast - dScores_naive)).flatten().mean() + \\\n",
    "    (np.abs(dScores_mat - dScores_fast)).flatten().mean() > 1e-6 :\n",
    "    print(\"Erreur!\")\n",
    "else:\n",
    "    print(\"Gradients bons!\")    \n"
   ]
  },
  {
   "cell_type": "code",
   "execution_count": 28,
   "metadata": {},
   "outputs": [],
   "source": [
    "_ = model_naive.backward(dScores_naive.reshape(5, 3, 1, 1))\n",
    "_ = model_mat.backward(dScores_mat.reshape(5, 3, 1, 1))\n",
    "_ = model_fast.backward(dScores_fast.reshape(5, 3, 1, 1))"
   ]
  },
  {
   "cell_type": "code",
   "execution_count": 29,
   "metadata": {},
   "outputs": [
    {
     "name": "stdout",
     "output_type": "stream",
     "text": [
      "L0-W max relative error: 2.629576e-09\n",
      "L0-b max relative error: 5.164367e-10\n",
      "L1-W max relative error: 1.315612e-09\n",
      "L1-b max relative error: 2.627920e-09\n"
     ]
    }
   ],
   "source": [
    "# Vérification du gradient pour le modèle naif, devrait être inférieur à 1e-4\n",
    "gradients = model_naive.gradients()\n",
    "model_params = model_naive.parameters()\n",
    "\n",
    "for layer_name, layer_params in model_params.items():\n",
    "    for param_name, _ in layer_params.items():\n",
    "        grad_num = evaluate_numerical_gradient(X, y, model_naive, layer_name, param_name, reg=0.1)\n",
    "        max_error = rel_error(grad_num, gradients[layer_name][param_name])\n",
    "        \n",
    "        print('%s max relative error: %e' % (layer_name + '-' + param_name, max_error))"
   ]
  },
  {
   "cell_type": "code",
   "execution_count": 30,
   "metadata": {},
   "outputs": [
    {
     "name": "stdout",
     "output_type": "stream",
     "text": [
      "L0-W max relative error: 2.629620e-09\n",
      "L0-b max relative error: 5.164374e-10\n",
      "L1-W max relative error: 7.471280e-10\n",
      "L1-b max relative error: 2.627933e-09\n"
     ]
    }
   ],
   "source": [
    "# Gradient check pour le modèle matricisé, devrait être inférieur à 1e-4\n",
    "gradients = model_mat.gradients()\n",
    "model_params = model_mat.parameters()\n",
    "\n",
    "for layer_name, layer_params in model_params.items():\n",
    "    for param_name, _ in layer_params.items():\n",
    "        grad_num = evaluate_numerical_gradient(X, y, model_mat, layer_name, param_name, reg=0.1)\n",
    "        max_error = rel_error(grad_num, gradients[layer_name][param_name])\n",
    "        \n",
    "        print('%s max relative error: %e' % (layer_name + '-' + param_name, max_error))"
   ]
  },
  {
   "cell_type": "code",
   "execution_count": 31,
   "metadata": {},
   "outputs": [
    {
     "name": "stdout",
     "output_type": "stream",
     "text": [
      "L0-W max relative error: 2.629601e-09\n",
      "L0-b max relative error: 4.003972e-10\n",
      "L1-W max relative error: 1.746894e-09\n",
      "L1-b max relative error: 2.627867e-09\n"
     ]
    }
   ],
   "source": [
    "# Gradient check pour le modèle cythonisé.\n",
    "# Les valeurs peuvent être légèrement différentes de celles\n",
    "# obtenues pour model_naive et model_mat (Effet de bord de Cython).\n",
    "# En autant qu'elles restent inférieures à 1e-4, c'est correct.\n",
    "gradients = model_fast.gradients()\n",
    "model_params = model_fast.parameters()\n",
    "\n",
    "for layer_name, layer_params in model_params.items():\n",
    "    for param_name, _ in layer_params.items():\n",
    "        grad_num = evaluate_numerical_gradient(X, y, model_fast, layer_name, param_name, reg=0.1)\n",
    "        max_error = rel_error(grad_num, gradients[layer_name][param_name])\n",
    "        \n",
    "        print('%s max relative error: %e' % (layer_name + '-' + param_name, max_error))"
   ]
  },
  {
   "cell_type": "markdown",
   "metadata": {},
   "source": [
    "<font size=\"4\">Comparaison des performances</font>"
   ]
  },
  {
   "cell_type": "markdown",
   "metadata": {},
   "source": [
    "<font size=\"3\">Propagation avant</font>\n",
    "\n",
    "les différentes implantation de convolution devraient entraîner divers temps d'exécution."
   ]
  },
  {
   "cell_type": "code",
   "execution_count": 32,
   "metadata": {},
   "outputs": [],
   "source": [
    "model_naive = create_toy_model()\n",
    "model_mat = create_toy_model_mat()\n",
    "model_fast = create_toy_model_fast()"
   ]
  },
  {
   "cell_type": "code",
   "execution_count": 33,
   "metadata": {},
   "outputs": [
    {
     "name": "stdout",
     "output_type": "stream",
     "text": [
      "CNN 2 couches, conv naive\n",
      "1.54 ms ± 39 µs per loop (mean ± std. dev. of 7 runs, 1,000 loops each)\n",
      "CNN 2 couches, conv mat\n",
      "109 µs ± 1.06 µs per loop (mean ± std. dev. of 7 runs, 10,000 loops each)\n",
      "CNN 2 couches, conv fast\n",
      "56.2 µs ± 2.84 µs per loop (mean ± std. dev. of 7 runs, 10,000 loops each)\n"
     ]
    }
   ],
   "source": [
    "print(\"CNN 2 couches, conv naive\")\n",
    "%timeit model_naive.forward(X)\n",
    "print(\"CNN 2 couches, conv mat\")\n",
    "%timeit model_mat.forward(X)\n",
    "print(\"CNN 2 couches, conv fast\")\n",
    "%timeit model_fast.forward(X)"
   ]
  },
  {
   "cell_type": "markdown",
   "metadata": {},
   "source": [
    "<font size=\"3\">Rétro-propagation</font>"
   ]
  },
  {
   "cell_type": "code",
   "execution_count": 34,
   "metadata": {},
   "outputs": [],
   "source": [
    "scores_naive = model_naive.forward(X).reshape(num_inputs, num_classes)\n",
    "_, dScores_naive, _ = model_naive.calculate_loss(scores_naive, y, 0.1)\n",
    "\n",
    "scores_mat = model_mat.forward(X).reshape(num_inputs, num_classes)\n",
    "_, dScores_mat, _ = model_fast.calculate_loss(scores, y, 0.1)\n",
    "\n",
    "scores_fast = model_fast.forward(X).reshape(num_inputs, num_classes)\n",
    "_, dScores_fast, _ = model_fast.calculate_loss(scores, y, 0.1)"
   ]
  },
  {
   "cell_type": "code",
   "execution_count": 35,
   "metadata": {},
   "outputs": [
    {
     "name": "stdout",
     "output_type": "stream",
     "text": [
      "CNN 2 couches, gradient conv naive\n",
      "2.48 ms ± 62.5 µs per loop (mean ± std. dev. of 7 runs, 100 loops each)\n",
      "CNN 2 couches, gradient conv mat\n",
      "146 µs ± 4.07 µs per loop (mean ± std. dev. of 7 runs, 10,000 loops each)\n",
      "CNN 2 couches, gradient conv fast\n",
      "22 µs ± 990 ns per loop (mean ± std. dev. of 7 runs, 10,000 loops each)\n"
     ]
    }
   ],
   "source": [
    "print(\"CNN 2 couches, gradient conv naive\")\n",
    "%timeit _ = model_naive.backward(dScores_naive.reshape(5, 3, 1, 1))\n",
    "print(\"CNN 2 couches, gradient conv mat\")\n",
    "%timeit _ = model_mat.backward(dScores_mat.reshape(5, 3, 1, 1))\n",
    "print(\"CNN 2 couches, gradient conv fast\")\n",
    "%timeit _ = model_fast.backward(dScores_fast.reshape(5, 3, 1, 1))"
   ]
  },
  {
   "cell_type": "markdown",
   "metadata": {},
   "source": [
    "<font size=\"5\">MaxPool</font>\n",
    "\n",
    "Intégront maintenant le \"Max pooling\" à notre arsenal."
   ]
  },
  {
   "cell_type": "markdown",
   "metadata": {},
   "source": [
    "<font size=\"3\">Propagation avant</font>"
   ]
  },
  {
   "cell_type": "code",
   "execution_count": 36,
   "metadata": {},
   "outputs": [
    {
     "name": "stdout",
     "output_type": "stream",
     "text": [
      "difference:  1.315789355365212e-10\n"
     ]
    }
   ],
   "source": [
    "###############################################\n",
    "# Voir le code de la classe MaxPool2DNaive    #\n",
    "###############################################\n",
    "import numpy as np\n",
    "from layers.MaxPool import MaxPool2DNaive\n",
    "\n",
    "X_shape = (2, 3, 4, 4)\n",
    "X = np.linspace(-0.3, 0.4, num=np.prod(X_shape)).reshape(X_shape)\n",
    "\n",
    "layer = MaxPool2DNaive(pooling_size=(2,2), stride=(2,2))\n",
    "\n",
    "out = layer.forward(X)\n",
    "\n",
    "correct_out = np.array([[[[-0.26315789, -0.24842105],\n",
    "                          [-0.20421053, -0.18947368]],\n",
    "                         [[-0.14526316, -0.13052632],\n",
    "                          [-0.08631579, -0.07157895]],\n",
    "                         [[-0.02736842, -0.01263158],\n",
    "                          [ 0.03157895,  0.04631579]]],\n",
    "                        [[[ 0.09052632,  0.10526316],\n",
    "                          [ 0.14947368,  0.16421053]],\n",
    "                         [[ 0.20842105,  0.22315789],\n",
    "                          [ 0.26736842,  0.28210526]],\n",
    "                         [[ 0.32631579,  0.34105263],\n",
    "                          [ 0.38526316,  0.4       ]]]])\n",
    "\n",
    "# Retourne l'erreur relative maximale des matrices de gradients passées en paramètre.\n",
    "# Pour chaque paramètre, l'erreur relative devrait être inférieure à environ 1e-8.\n",
    "print('difference: ', (out - correct_out).flatten().mean())"
   ]
  },
  {
   "cell_type": "markdown",
   "metadata": {},
   "source": [
    "<font size=\"3\">Rétro-propagation</font>"
   ]
  },
  {
   "cell_type": "code",
   "execution_count": 37,
   "metadata": {},
   "outputs": [
    {
     "name": "stdout",
     "output_type": "stream",
     "text": [
      "Inputs\n",
      "[[[[-0.35399391 -1.37495129 -0.6436184  -2.22340315]\n",
      "   [ 0.62523145 -1.60205766 -1.10438334  0.05216508]\n",
      "   [-0.739563    1.5430146  -1.29285691  0.26705087]\n",
      "   [-0.03928282 -1.1680935   0.52327666 -0.17154633]]\n",
      "\n",
      "  [[ 0.77179055  0.82350415  2.16323595  1.33652795]\n",
      "   [-0.36918184 -0.23937918  1.0996596   0.65526373]\n",
      "   [ 0.64013153 -1.61695604 -0.02432612 -0.73803091]\n",
      "   [ 0.2799246  -0.09815039  0.91017891  0.31721822]]]\n",
      "\n",
      "\n",
      " [[[ 0.78632796 -0.4664191  -0.94444626 -0.41004969]\n",
      "   [-0.01702041  0.37915174  2.25930895 -0.04225715]\n",
      "   [-0.955945   -0.34598178 -0.46359597  0.48148147]\n",
      "   [-1.54079701  0.06326199  0.15650654  0.23218104]]\n",
      "\n",
      "  [[-0.59731607 -0.23792173 -1.42406091 -0.49331988]\n",
      "   [-0.54286148  0.41605005 -1.15618243  0.7811981 ]\n",
      "   [ 1.49448454 -2.06998503  0.42625873  0.67690804]\n",
      "   [-0.63743703 -0.39727181 -0.13288058 -0.29779088]]]]\n",
      "Outputs\n",
      "[[[[0.62523145 0.05216508]\n",
      "   [1.5430146  0.52327666]]\n",
      "\n",
      "  [[0.82350415 2.16323595]\n",
      "   [0.64013153 0.91017891]]]\n",
      "\n",
      "\n",
      " [[[0.78632796 2.25930895]\n",
      "   [0.06326199 0.48148147]]\n",
      "\n",
      "  [[0.41605005 0.7811981 ]\n",
      "   [1.49448454 0.67690804]]]]\n",
      "Gradients\n",
      "[[[[0.         0.         0.         0.        ]\n",
      "   [0.62523145 0.         0.         0.05216508]\n",
      "   [0.         1.5430146  0.         0.        ]\n",
      "   [0.         0.         0.52327666 0.        ]]\n",
      "\n",
      "  [[0.         0.82350415 2.16323595 0.        ]\n",
      "   [0.         0.         0.         0.        ]\n",
      "   [0.64013153 0.         0.         0.        ]\n",
      "   [0.         0.         0.91017891 0.        ]]]\n",
      "\n",
      "\n",
      " [[[0.78632796 0.         0.         0.        ]\n",
      "   [0.         0.         2.25930895 0.        ]\n",
      "   [0.         0.         0.         0.48148147]\n",
      "   [0.         0.06326199 0.         0.        ]]\n",
      "\n",
      "  [[0.         0.         0.         0.        ]\n",
      "   [0.         0.41605005 0.         0.7811981 ]\n",
      "   [1.49448454 0.         0.         0.67690804]\n",
      "   [0.         0.         0.         0.        ]]]]\n"
     ]
    }
   ],
   "source": [
    "###############################################\n",
    "# Voir le code de la classe MaxPool2DNaive    #\n",
    "###############################################\n",
    "\n",
    "X = np.random.randn(2, 2, 4, 4)\n",
    "\n",
    "layer = MaxPool2DNaive(pooling_size=(2,2), stride=(2,2))\n",
    "\n",
    "out = layer.forward(X)\n",
    "dX = layer.backward(out)\n",
    "\n",
    "print(\"Inputs\")\n",
    "print(X)\n",
    "# Devrait retouner le max de chaque convolution\n",
    "print(\"Outputs\")\n",
    "print(out)\n",
    "# Devrait replacer les éléments des sorties au même endroit que X\n",
    "print(\"Gradients\")\n",
    "print(dX)"
   ]
  },
  {
   "cell_type": "markdown",
   "metadata": {},
   "source": [
    "<font size=\"5\">ConvNet à N couches</font>"
   ]
  },
  {
   "cell_type": "markdown",
   "metadata": {},
   "source": [
    "Dans les cellules qui suivent, vous devez compléter la fonction \n",
    "\n",
    "    create_Nlayer_cnn(num_filter_layer1, num_filter_layer2, fc_size, weight_scale)\n",
    "    \n",
    "avec au moins **3 couches convolutives**, du *max pooling*, du *dropout* des opérations *batchNorm* et atteindre les performances mentionnées plus loins.  Il est **fortement suggéré** d'utiliser le code cythonisé pour les opération de convolution et de max pooling."
   ]
  },
  {
   "cell_type": "code",
   "execution_count": 38,
   "metadata": {},
   "outputs": [],
   "source": [
    "from layers.BatchNorm import SpatialBatchNorm\n",
    "from layers.Conv import Conv2DCython\n",
    "from layers.Dense import Dense\n",
    "from layers.Flatten import Flatten\n",
    "from layers.MaxPool import MaxPool2DCython\n",
    "from layers.Dropout import Dropout\n",
    "from model.Model import Model\n",
    "from utils.model_loss import cross_entropy_loss\n",
    "\n",
    "# paramètres de convolution, à modifier au besoin\n",
    "filter_size = 3\n",
    "channels = 3\n",
    "stride = 1\n",
    "p_dropout = 0.4\n",
    "pad = int((filter_size - 1)/2)\n",
    "\n",
    "# paramètres dense\n",
    "num_classes = 10\n",
    "\n",
    "def create_Nlayer_cnn(init_weight_scale):\n",
    "    model = Model()\n",
    "    \n",
    "    ## TODO AOUTER ICI LE CODE DU CNN DE VOTRE CRU\n",
    "    # Architecture inspiré de: https://www.youtube.com/watch?v=VQYMOJnN6xg\n",
    "    layer0 = Conv2DCython(32, \n",
    "                          filter_size=filter_size,\n",
    "                          channels=channels, \n",
    "                          stride=stride,\n",
    "                          padding=pad,\n",
    "                          weight_scale=init_weight_scale,\n",
    "                          activation=\"relu\")\n",
    "    \n",
    "    layer1 = Conv2DCython(32, \n",
    "                          filter_size=filter_size,\n",
    "                          channels=32, \n",
    "                          stride=stride,\n",
    "                          padding=pad,\n",
    "                          weight_scale=init_weight_scale,\n",
    "                          activation=\"relu\")\n",
    "    \n",
    "    layer2 = Conv2DCython(64, \n",
    "                          filter_size=filter_size,\n",
    "                          channels=32, \n",
    "                          stride=stride,\n",
    "                          padding=pad,\n",
    "                          weight_scale=init_weight_scale,\n",
    "                          activation=\"relu\")\n",
    "    \n",
    "    layer3 = Conv2DCython(64, \n",
    "                          filter_size=filter_size,\n",
    "                          channels=64, \n",
    "                          stride=stride,\n",
    "                          padding=pad,\n",
    "                          weight_scale=init_weight_scale,\n",
    "                          activation=\"relu\")\n",
    "    \n",
    "    layer_fc_0 = Dense(dim_input=4096,\n",
    "                     dim_output=512,\n",
    "                     weight_scale=init_weight_scale,\n",
    "                     activation=\"relu\")\n",
    "    \n",
    "    \n",
    "    layer_fc_1 = Dense(dim_input=512,\n",
    "                     dim_output=num_classes,\n",
    "                     weight_scale=init_weight_scale,)\n",
    "    \n",
    "    model.add(layer0)\n",
    "    model.add(layer1)\n",
    "    model.add(MaxPool2DCython(pooling_size=2, stride=2))\n",
    "    model.add(SpatialBatchNorm(32))\n",
    "    model.add(Dropout(drop_rate=p_dropout))\n",
    "    \n",
    "    model.add(layer2)\n",
    "    model.add(layer3)\n",
    "    model.add(MaxPool2DCython(pooling_size=2, stride=2))\n",
    "    model.add(SpatialBatchNorm(64))\n",
    "    model.add(Dropout(drop_rate=p_dropout))\n",
    "        \n",
    "    model.add(Flatten())\n",
    "    model.add(layer_fc_0)\n",
    "    model.add(Dropout(drop_rate=0.5))\n",
    "    model.add(layer_fc_1)\n",
    "    model.add_loss(cross_entropy_loss)\n",
    "    \n",
    "    return model"
   ]
  },
  {
   "cell_type": "markdown",
   "metadata": {},
   "source": [
    "<font size=\"3\">Validation de la perte</font>\n",
    "\n",
    "En augmentant la régularisation, la loss devrait augmenter"
   ]
  },
  {
   "cell_type": "code",
   "execution_count": 39,
   "metadata": {},
   "outputs": [
    {
     "name": "stdout",
     "output_type": "stream",
     "text": [
      "Initial loss (no regularization):  2.3016772520502533\n",
      "Initial loss (with regularization):  17.932892253779038\n"
     ]
    }
   ],
   "source": [
    "model = create_Nlayer_cnn(1e-2)\n",
    "\n",
    "N = 50\n",
    "X = np.random.randn(N, 3, 32, 32)\n",
    "y = np.random.randint(10, size=N)\n",
    "\n",
    "scores = model.forward(X)\n",
    "\n",
    "loss, grads, _ = model.calculate_loss(scores, y, reg=0.0)\n",
    "print('Initial loss (no regularization): ', loss)\n",
    "\n",
    "loss, grads, _ = model.calculate_loss(scores, y, reg=0.1)\n",
    "print('Initial loss (with regularization): ', loss)"
   ]
  },
  {
   "cell_type": "markdown",
   "metadata": {},
   "source": [
    "<font size=\"3\">Sur-apprendre sur un petit ensemble de données</font>"
   ]
  },
  {
   "cell_type": "code",
   "execution_count": 40,
   "metadata": {},
   "outputs": [
    {
     "name": "stdout",
     "output_type": "stream",
     "text": [
      "Train data shape:  (49000, 3, 32, 32)\n",
      "Train labels shape:  (49000,)\n",
      "Validation data shape:  (1000, 3, 32, 32)\n",
      "Validation labels shape:  (1000,)\n",
      "Test data shape:  (1000, 3, 32, 32)\n",
      "Test labels shape:  (1000,)\n",
      "dev data shape:  (500, 3, 32, 32)\n",
      "dev labels shape:  (500,)\n",
      "batch data shape:  (200, 32, 32, 3)\n",
      "batch labels shape:  (200,)\n",
      "CIFAR10 est un jeu de données d'images RGB 32x32x3 séparées en 10 classes\n",
      "['airplane', 'automobile', 'bird', 'cat', 'deer', 'dog', 'frog', 'horse', 'ship', 'truck']\n"
     ]
    }
   ],
   "source": [
    "def get_CIFAR10_data(num_training=49000, num_validation=1000, num_test=1000, num_dev=500, num_batch=200):\n",
    "    \"\"\"\n",
    "    Charger la banque de données CIFAR-10, prétraiter les images et ajouter une dimension pour le biais.\n",
    "    \n",
    "    Input :\n",
    "    - num_training : nombre d'images à mettre dans l'ensemble d'entrainement\n",
    "    - num_validation : nombre d'images à mettre dans l'ensemble de validation\n",
    "    - num_test : nombre d'images à mettre dans l'ensemble de test\n",
    "    - num_dev : d'images à mettre dans l'ensemble dev\n",
    "    \n",
    "    Output :\n",
    "    - X_train, y_train : données et cibles d'entrainement\n",
    "    - X_val, y_val: données et cibles de validation\n",
    "    - X_test y_test: données et cibles de test \n",
    "    - X_dev, y_dev: données et cibles dev\n",
    "    - X_batch, y_batch: batch de données et de cibles \n",
    "    \"\"\"\n",
    "    # Charger les données CIFAR-10\n",
    "    cifar10_dir = 'datasets/cifar-10-batches-py'\n",
    "    X_train, y_train, X_test, y_test, label_names = load_CIFAR10(cifar10_dir)\n",
    "  \n",
    "    # Séparer en ensembles d'entraînement, de validation, de test et de dev\n",
    "    mask = range(num_training, num_training + num_validation)\n",
    "    X_val = X_train[mask]\n",
    "    y_val = y_train[mask]\n",
    "    mask = range(num_training)\n",
    "    X_train = X_train[mask]\n",
    "    y_train = y_train[mask]\n",
    "    mask = range(num_test)\n",
    "    X_test = X_test[mask]\n",
    "    y_test = y_test[mask]\n",
    "    mask = np.random.choice(num_training, num_dev, replace=False)\n",
    "    X_dev = X_train[mask]\n",
    "    y_dev = y_train[mask]\n",
    "    mask = range(num_batch)\n",
    "    X_batch = X_train[mask]\n",
    "    y_batch = y_train[mask]\n",
    "    \n",
    "    X_train = X_train.transpose(0, 3, 1, 2)\n",
    "    X_test = X_test.transpose(0, 3, 1, 2)\n",
    "    X_val = X_val.transpose(0, 3, 1, 2)\n",
    "    X_dev = X_dev.transpose(0, 3, 1, 2)\n",
    "\n",
    "    return X_train, y_train, X_val, y_val, X_test, y_test, X_dev, y_dev, X_batch, y_batch, label_names \n",
    "\n",
    "def preprocess_CIFAR10_data(X):\n",
    "\n",
    "    # Normalisation\n",
    "    X_mean = np.mean(X, axis = 0)\n",
    "    X_ = X - X_mean\n",
    "    \n",
    "    return X_\n",
    "\n",
    "Data_train, y_train, Data_val, y_val, Data_test, y_test, Data_dev, y_dev, Data_batch, y_batch, label_names = get_CIFAR10_data()\n",
    "X_train, X_val, X_test, X_dev, X_batch, = (preprocess_CIFAR10_data(Data) for Data in (Data_train, Data_val, Data_test, Data_dev, Data_batch))\n",
    "\n",
    "print('Train data shape: ', X_train.shape)\n",
    "print('Train labels shape: ', y_train.shape)\n",
    "print('Validation data shape: ', X_val.shape)\n",
    "print('Validation labels shape: ', y_val.shape)\n",
    "print('Test data shape: ', X_test.shape)\n",
    "print('Test labels shape: ', y_test.shape)\n",
    "print('dev data shape: ', X_dev.shape)\n",
    "print('dev labels shape: ', y_dev.shape)\n",
    "print('batch data shape: ', X_batch.shape)\n",
    "print('batch labels shape: ', y_batch.shape)\n",
    "\n",
    "print(\"CIFAR10 est un jeu de données d'images RGB 32x32x3 séparées en 10 classes\")\n",
    "print(label_names)"
   ]
  },
  {
   "cell_type": "code",
   "execution_count": 41,
   "metadata": {},
   "outputs": [
    {
     "name": "stdout",
     "output_type": "stream",
     "text": [
      "(epoch 1 / 10) loss: 3.872981, train_acc: 0.300000, val_acc: 0.173000\n",
      "(epoch 2 / 10) loss: 3.355158, train_acc: 0.460000, val_acc: 0.201000\n",
      "(epoch 3 / 10) loss: 2.736429, train_acc: 0.680000, val_acc: 0.224000\n",
      "(epoch 4 / 10) loss: 2.373388, train_acc: 0.780000, val_acc: 0.197000\n",
      "(epoch 5 / 10) loss: 2.409874, train_acc: 0.920000, val_acc: 0.259000\n",
      "(epoch 6 / 10) loss: 1.961764, train_acc: 0.940000, val_acc: 0.255000\n",
      "(epoch 7 / 10) loss: 1.672498, train_acc: 0.980000, val_acc: 0.239000\n",
      "(epoch 8 / 10) loss: 1.865885, train_acc: 0.950000, val_acc: 0.274000\n",
      "(epoch 9 / 10) loss: 1.505156, train_acc: 1.000000, val_acc: 0.250000\n",
      "(epoch 10 / 10) loss: 1.530613, train_acc: 1.000000, val_acc: 0.266000\n"
     ]
    }
   ],
   "source": [
    "# Ici on s'entraîne sur un petit ensemble d'entraînement afin de s'assurer que le modèle\n",
    "# est capable d'overfitter.\n",
    "from model.Solver import epoch_solver, Adam\n",
    "\n",
    "N = 100\n",
    "X_train_small = X_train[:N]\n",
    "y_train_small = y_train[:N]\n",
    "\n",
    "model = create_Nlayer_cnn(1e-2)\n",
    "\n",
    "optimizer = Adam(5e-4, model)\n",
    "    \n",
    "loss_history, train_accuracy_history, val_accuracy_history = epoch_solver(X_train_small, \n",
    "                                                                          y_train_small,\n",
    "                                                                          X_val,\n",
    "                                                                          y_val,\n",
    "                                                                          1e-2,\n",
    "                                                                          optimizer,\n",
    "                                                                          batch_size=10,\n",
    "                                                                          epochs=10)"
   ]
  },
  {
   "cell_type": "code",
   "execution_count": 42,
   "metadata": {},
   "outputs": [
    {
     "data": {
      "image/png": "[encoded data removed]",
      "text/plain": [
       "<Figure size 1000x800 with 2 Axes>"
      ]
     },
     "metadata": {},
     "output_type": "display_data"
    }
   ],
   "source": [
    "plt.subplot(2, 1, 1)\n",
    "plt.plot(loss_history, '-o')\n",
    "plt.xlabel('iteration')\n",
    "plt.ylabel('loss')\n",
    "\n",
    "plt.subplot(2, 1, 2)\n",
    "plt.plot(train_accuracy_history, '-o')\n",
    "plt.plot(val_accuracy_history, '-o')\n",
    "plt.legend(['train', 'val'], loc='upper left')\n",
    "plt.xlabel('epoch')\n",
    "plt.ylabel('accuracy')\n",
    "plt.show()"
   ]
  },
  {
   "cell_type": "markdown",
   "metadata": {},
   "source": [
    "<font size=\"3\">Entraînement complet</font>\n",
    "\n",
    "- Entraînez votre réseau pour 3 epochs.  Vous devriez avoir une justesse en validation d'**au moins ~47\\%** lorsqu'entraîné sur 6,000 données.\n",
    "- Par la suite, entraînez votre réseau pour 1 autre epoch mais sur **100% des données**.  Vous devriez avoir une justesse en validation d'**au moins ~57\\%**."
   ]
  },
  {
   "cell_type": "code",
   "execution_count": 43,
   "metadata": {
    "tags": []
   },
   "outputs": [
    {
     "name": "stdout",
     "output_type": "stream",
     "text": [
      "(batch 20 / 60) loss: 2.004830\n",
      "(batch 40 / 60) loss: 1.817656\n",
      "(batch 60 / 60) loss: 1.894336\n",
      "(epoch 1 / 3) loss: 1.894336, train_acc: 0.353333, val_acc: 0.360000\n",
      "(batch 20 / 60) loss: 1.799085\n",
      "(batch 40 / 60) loss: 1.566833\n",
      "(batch 60 / 60) loss: 1.801834\n",
      "(epoch 2 / 3) loss: 1.801834, train_acc: 0.404833, val_acc: 0.413000\n",
      "(batch 20 / 60) loss: 1.581112\n",
      "(batch 40 / 60) loss: 1.507249\n",
      "(batch 60 / 60) loss: 1.565442\n",
      "(epoch 3 / 3) loss: 1.565442, train_acc: 0.495667, val_acc: 0.492000\n"
     ]
    }
   ],
   "source": [
    "from model.Solver import epoch_solver, Adam\n",
    "\n",
    "reg = 1e-4 # à ajuster au besoin\n",
    "lr = 5e-4  # à ajuster au besoin\n",
    "model = create_Nlayer_cnn(reg)\n",
    "\n",
    "optimizer = Adam(lr, model)\n",
    "\n",
    "# change back to full X_train y_train for complete dataset\n",
    "loss_history, train_accuracy_history, val_accuracy_history = epoch_solver(X_train[:6000], \n",
    "                                                                          y_train[:6000],\n",
    "                                                                          X_val,\n",
    "                                                                          y_val,\n",
    "                                                                          reg,\n",
    "                                                                          optimizer,\n",
    "                                                                          batch_size=100,\n",
    "                                                                          epochs=3)"
   ]
  },
  {
   "cell_type": "code",
   "execution_count": 44,
   "metadata": {},
   "outputs": [
    {
     "data": {
      "image/png": "[encoded data removed]",
      "text/plain": [
       "<Figure size 1000x800 with 2 Axes>"
      ]
     },
     "metadata": {},
     "output_type": "display_data"
    }
   ],
   "source": [
    "plt.subplot(2, 1, 1)\n",
    "plt.plot(loss_history, '-o')\n",
    "plt.xlabel('iteration')\n",
    "plt.ylabel('loss')\n",
    "plt.title('Train : 6,000 images')\n",
    "\n",
    "plt.subplot(2, 1, 2)\n",
    "plt.plot(train_accuracy_history, '-o')\n",
    "plt.plot(val_accuracy_history, '-o')\n",
    "plt.legend(['train', 'val'], loc='upper left')\n",
    "plt.xlabel('epoch')\n",
    "plt.ylabel('accuracy')\n",
    "plt.show()"
   ]
  },
  {
   "cell_type": "code",
   "execution_count": 45,
   "metadata": {},
   "outputs": [
    {
     "name": "stdout",
     "output_type": "stream",
     "text": [
      "(batch 20 / 490) loss: 1.496975\n",
      "(batch 40 / 490) loss: 1.549509\n",
      "(batch 60 / 490) loss: 1.554391\n",
      "(batch 80 / 490) loss: 1.388770\n",
      "(batch 100 / 490) loss: 1.231690\n",
      "(batch 120 / 490) loss: 1.189642\n",
      "(batch 140 / 490) loss: 1.492101\n",
      "(batch 160 / 490) loss: 1.425746\n",
      "(batch 180 / 490) loss: 1.395400\n",
      "(batch 200 / 490) loss: 1.302711\n",
      "(batch 220 / 490) loss: 1.331676\n",
      "(batch 240 / 490) loss: 1.373932\n",
      "(batch 260 / 490) loss: 1.222343\n",
      "(batch 280 / 490) loss: 0.947304\n",
      "(batch 300 / 490) loss: 1.353864\n",
      "(batch 320 / 490) loss: 0.974663\n",
      "(batch 340 / 490) loss: 1.119472\n",
      "(batch 360 / 490) loss: 1.178757\n",
      "(batch 380 / 490) loss: 1.194286\n",
      "(batch 400 / 490) loss: 1.110072\n",
      "(batch 420 / 490) loss: 1.160054\n",
      "(batch 440 / 490) loss: 1.267034\n",
      "(batch 460 / 490) loss: 1.279120\n",
      "(batch 480 / 490) loss: 1.014614\n",
      "(epoch 1 / 1) loss: 1.119474, train_acc: 0.626939, val_acc: 0.623000\n"
     ]
    }
   ],
   "source": [
    "# On réentraîne (1 epoch) avec 100% des données d'entraînement.\n",
    "loss_history, train_accuracy_history, val_accuracy_history = epoch_solver(X_train, \n",
    "                                                                          y_train,\n",
    "                                                                          X_val,\n",
    "                                                                          y_val,\n",
    "                                                                          reg,\n",
    "                                                                          optimizer,\n",
    "                                                                          batch_size=100,\n",
    "                                                                          epochs=1)"
   ]
  },
  {
   "cell_type": "code",
   "execution_count": 46,
   "metadata": {},
   "outputs": [
    {
     "data": {
      "image/png": "[encoded data removed]",
      "text/plain": [
       "<Figure size 1000x800 with 2 Axes>"
      ]
     },
     "metadata": {},
     "output_type": "display_data"
    }
   ],
   "source": [
    "plt.subplot(2, 1, 1)\n",
    "plt.plot(loss_history, '-o')\n",
    "plt.xlabel('iteration')\n",
    "plt.ylabel('loss')\n",
    "plt.title('Train : 50,000 images')\n",
    "\n",
    "plt.subplot(2, 1, 2)\n",
    "plt.plot(train_accuracy_history, '-o')\n",
    "plt.plot(val_accuracy_history, '-o')\n",
    "plt.legend(['train', 'val'], loc='upper left')\n",
    "plt.xlabel('epoch')\n",
    "plt.ylabel('accuracy')\n",
    "plt.show()"
   ]
  },
  {
   "cell_type": "markdown",
   "metadata": {},
   "source": [
    "## Visualisation des filtres\n",
    "Vous pouvez visualiser les filtres de la première couche du réseau entraîné :"
   ]
  },
  {
   "cell_type": "code",
   "execution_count": 47,
   "metadata": {},
   "outputs": [
    {
     "data": {
      "image/png": "[encoded data removed]",
      "text/plain": [
       "<Figure size 1000x800 with 1 Axes>"
      ]
     },
     "metadata": {},
     "output_type": "display_data"
    }
   ],
   "source": [
    "from visualization.utils import visualize_as_grid\n",
    "\n",
    "def show_net_weights(model):\n",
    "    W1 = model.parameters()['L0']['W']\n",
    "    W1 = W1.transpose(0, 2, 3, 1)\n",
    "    plt.imshow(visualize_as_grid(W1, padding=3).astype('uint8'))\n",
    "    plt.gca().axis('off')\n",
    "    plt.show()\n",
    "\n",
    "show_net_weights(model)"
   ]
  },
  {
   "cell_type": "code",
   "execution_count": 48,
   "metadata": {},
   "outputs": [
    {
     "name": "stdout",
     "output_type": "stream",
     "text": [
      "(1000, 3, 32, 32)\n",
      "Test accuracy:  0.62\n"
     ]
    }
   ],
   "source": [
    "print(Data_test.shape)\n",
    "y_test_pred = model.predict(X_test)\n",
    "\n",
    "test_acc = (y_test_pred == y_test).mean()\n",
    "print('Test accuracy: ', test_acc)"
   ]
  },
  {
   "cell_type": "code",
   "execution_count": null,
   "metadata": {},
   "outputs": [],
   "source": []
  }
 ],
 "metadata": {
  "kernelspec": {
   "display_name": "Python 3 (ipykernel)",
   "language": "python",
   "name": "python3"
  },
  "language_info": {
   "codemirror_mode": {
    "name": "ipython",
    "version": 3
   },
   "file_extension": ".py",
   "mimetype": "text/x-python",
   "name": "python",
   "nbconvert_exporter": "python",
   "pygments_lexer": "ipython3",
   "version": "3.11.1"
  }
 },
 "nbformat": 4,
 "nbformat_minor": 4
}
