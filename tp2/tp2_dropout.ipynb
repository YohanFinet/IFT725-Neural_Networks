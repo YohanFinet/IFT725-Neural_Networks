{
 "cells": [
  {
   "cell_type": "code",
   "execution_count": 1,
   "metadata": {},
   "outputs": [],
   "source": [
    "# from google.colab import drive\n",
    "# drive.mount('/content/drive')\n",
    "# !cp -r drive/MyDrive/IFT780/TP2/prog/* ."
   ]
  },
  {
   "cell_type": "markdown",
   "metadata": {},
   "source": [
    "# TP2: Dropout\n",
    "\n",
    "Dropout [1] est une technique de régularisation qui consiste à forcer aléatoirement à zéro certains neurones lors de la propagation avant. Pour cet exercice, vous serez appelé à coder une couche de dropout et de l'incorporer à votre réseau pleinement connecté.\n",
    "\n",
    "Ceci est le notebook le plus court du tp2.  Nous utiliserons pour l'essentiel le code dans les fichiers suivants :\n",
    "\n",
    "    model/Model.py\n",
    "    layers/Dropout.py \n",
    "    utils/model_loss.py\n",
    "    model/Solver.py\n",
    "    \n",
    "Comme au tp1, la classe **Model** \"crée\" un réseau de neurones en ajoutant successivement des couches et une fonction de perte.\n",
    "\n",
    "[1] Geoffrey E. Hinton et al, \"Improving neural networks by preventing co-adaptation of feature detectors\", arXiv 2012\n"
   ]
  },
  {
   "cell_type": "code",
   "execution_count": 2,
   "metadata": {},
   "outputs": [],
   "source": [
    "import random\n",
    "import numpy as np\n",
    "from utils.data_utils import load_CIFAR10\n",
    "import matplotlib.pyplot as plt\n",
    "%matplotlib inline\n",
    "plt.rcParams['figure.figsize'] = (10.0, 8.0) # set default size of plots\n",
    "plt.rcParams['image.interpolation'] = 'nearest'\n",
    "plt.rcParams['image.cmap'] = 'gray'\n",
    "\n",
    "# Pour automatiquement recharger les modules externes\n",
    "# voir http://stackoverflow.com/questions/1907993/autoreload-of-modules-in-ipython\n",
    "%load_ext autoreload\n",
    "%autoreload 2"
   ]
  },
  {
   "cell_type": "code",
   "execution_count": 3,
   "metadata": {},
   "outputs": [],
   "source": [
    "def get_CIFAR10_data(num_training=49000, num_validation=1000, num_test=1000, num_dev=500):\n",
    "    \"\"\"\n",
    "    Charger la banque de données CIFAR-10, prétraiter les images et ajouter une dimension pour le biais.\n",
    "    \n",
    "    Input :\n",
    "    - num_training : nombre d'images à mettre dans l'ensemble d'entrainement\n",
    "    - num_validation : nombre d'images à mettre dans l'ensemble de validation\n",
    "    - num_test : nombre d'images à mettre dans l'ensemble de test\n",
    "    - num_dev : d'images à mettre dans l'ensemble dev\n",
    "    \n",
    "    Output :\n",
    "    - X_train, y_train : données et cibles d'entrainement\n",
    "    - X_val, y_val: données et cibles de validation\n",
    "    - X_test y_test: données et cibles de test \n",
    "    - X_dev, y_dev: données et cicles dev\n",
    "    \"\"\"\n",
    "    # Charger les données CIFAR-10\n",
    "    cifar10_dir = 'datasets/cifar-10-batches-py'\n",
    "    X_train, y_train, X_test, y_test, label_names = load_CIFAR10(cifar10_dir)\n",
    "  \n",
    "    # Séparer en ensembles d'entraînement, de validation, de test et de dev\n",
    "    mask = range(num_training, num_training + num_validation)\n",
    "    X_val = X_train[mask]\n",
    "    y_val = y_train[mask]\n",
    "    mask = range(num_training)\n",
    "    X_train = X_train[mask]\n",
    "    y_train = y_train[mask]\n",
    "    mask = range(num_test)\n",
    "    X_test = X_test[mask]\n",
    "    y_test = y_test[mask]\n",
    "    mask = np.random.choice(num_training, num_dev, replace=False)\n",
    "    X_dev = X_train[mask]\n",
    "    y_dev = y_train[mask]\n",
    "\n",
    "    X_train = np.reshape(X_train, (X_train.shape[0], -1))\n",
    "    X_val = np.reshape(X_val, (X_val.shape[0], -1))\n",
    "    X_test = np.reshape(X_test, (X_test.shape[0], -1))\n",
    "    X_dev = np.reshape(X_dev, (X_dev.shape[0], -1))\n",
    "\n",
    "    # Normalisation\n",
    "    X_train -= np.mean(X_train, axis = 0)\n",
    "    X_val -= np.mean(X_val, axis = 0)\n",
    "    X_test -= np.mean(X_test, axis = 0)\n",
    "    X_dev -= np.mean(X_dev, axis = 0)\n",
    "\n",
    "    return X_train, y_train, X_val, y_val, X_test, y_test, X_dev, y_dev\n",
    "\n",
    "\n",
    "def preprocess_CIFAR10_data(X):\n",
    "\n",
    "    # Normalisation\n",
    "    X_mean = np.mean(X, axis = 0)\n",
    "    X_ = X - X_mean\n",
    "\n",
    "    # Ajout du biais\n",
    "    X_ = np.hstack([X_, np.ones((X.shape[0], 1))])\n",
    "    \n",
    "    return X_"
   ]
  },
  {
   "cell_type": "code",
   "execution_count": 4,
   "metadata": {},
   "outputs": [
    {
     "name": "stdout",
     "output_type": "stream",
     "text": [
      "Train data shape:  (49000, 3072)\n",
      "Train labels shape:  (49000,)\n",
      "Validation data shape:  (1000, 3072)\n",
      "Validation labels shape:  (1000,)\n",
      "Test data shape:  (1000, 3072)\n",
      "Test labels shape:  (1000,)\n",
      "dev data shape:  (500, 3072)\n",
      "dev labels shape:  (500,)\n"
     ]
    }
   ],
   "source": [
    "X_train, y_train, X_val, y_val, X_test, y_test, X_dev, y_dev = get_CIFAR10_data()\n",
    "print('Train data shape: ', X_train.shape)\n",
    "print('Train labels shape: ', y_train.shape)\n",
    "print('Validation data shape: ', X_val.shape)\n",
    "print('Validation labels shape: ', y_val.shape)\n",
    "print('Test data shape: ', X_test.shape)\n",
    "print('Test labels shape: ', y_test.shape)\n",
    "print('dev data shape: ', X_dev.shape)\n",
    "print('dev labels shape: ', y_dev.shape)"
   ]
  },
  {
   "cell_type": "code",
   "execution_count": 19,
   "metadata": {},
   "outputs": [
    {
     "name": "stdout",
     "output_type": "stream",
     "text": [
      "(500, 500)\n"
     ]
    }
   ],
   "source": [
    "from layers.Dense import Dense\n",
    "from layers.Dropout import Dropout\n",
    "from model.Model import Model\n",
    "from utils.model_loss import cross_entropy_loss\n",
    "\n",
    "def create_toy_data(shape):\n",
    "    np.random.seed(0)\n",
    "    return np.random.randn(*shape) + 10\n",
    "\n",
    "X = create_toy_data((500,500))\n",
    "print(X.shape)"
   ]
  },
  {
   "cell_type": "markdown",
   "metadata": {},
   "source": [
    "# Propagation avant\n",
    "\n",
    "Dans le fichier `Dropout.py`, codez la propagation avant du dropout. Puisque dropout se comporte différemment en entraînement qu'en test, assurez-vous que les deux modes fonctionnent bien.\n",
    "\n",
    "Exécutez la cellule que voici et assurez-vous que la moyenne de out_train soit la même que out_test.\n",
    "\n",
    "NOTE : vous devez implémenter du \"inverse dropout\".  Pour plus de détail, voir https://deepnotes.io/dropout"
   ]
  },
  {
   "cell_type": "code",
   "execution_count": 20,
   "metadata": {},
   "outputs": [
    {
     "name": "stdout",
     "output_type": "stream",
     "text": [
      "Running tests with p =  0.3\n",
      "Mean of input:  10.001537191397109\n",
      "Mean of train-time output:  9.999626974532692\n",
      "Mean of test-time output:  10.001537191397109\n",
      "Fraction of train-time output set to zero:  0.299984\n",
      "Fraction of test-time output set to zero:  0.0\n",
      "\n",
      "Running tests with p =  0.6\n",
      "Mean of input:  10.001537191397109\n",
      "Mean of train-time output:  10.038205232419314\n",
      "Mean of test-time output:  10.001537191397109\n",
      "Fraction of train-time output set to zero:  0.598564\n",
      "Fraction of test-time output set to zero:  0.0\n",
      "\n",
      "Running tests with p =  0.75\n",
      "Mean of input:  10.001537191397109\n",
      "Mean of train-time output:  10.032345359229108\n",
      "Mean of test-time output:  10.001537191397109\n",
      "Fraction of train-time output set to zero:  0.749196\n",
      "Fraction of test-time output set to zero:  0.0\n",
      "\n"
     ]
    }
   ],
   "source": [
    "##############################################################################\n",
    "# TODO: Implémenter la méthode forward (propagation avant) de la classe de   #\n",
    "# couche Dropout. Le comportement lors de l'entraînement et des tests est    #\n",
    "# différent, assurez-vous donc que les deux fonctionnent.                    #\n",
    "##############################################################################\n",
    "\n",
    "for p in [0.3, 0.6, 0.75]:\n",
    "    dropout_layer = Dropout(drop_rate=p)\n",
    "    out_train = dropout_layer.forward(X, mode='train')\n",
    "    out_test = dropout_layer.forward(X, mode='test')\n",
    "\n",
    "    print('Running tests with p = ', p)\n",
    "    print('Mean of input: ', X.mean())\n",
    "    print('Mean of train-time output: ', out_train.mean())\n",
    "    print('Mean of test-time output: ', out_test.mean())\n",
    "    print('Fraction of train-time output set to zero: ', (out_train == 0).mean())\n",
    "    print('Fraction of test-time output set to zero: ', (out_test == 0).mean())\n",
    "    print()\n"
   ]
  },
  {
   "cell_type": "code",
   "execution_count": 21,
   "metadata": {},
   "outputs": [],
   "source": [
    "from utils.gradients import evaluate_numerical_gradient\n",
    "\n",
    "# Retourne l'erreur relative maximale des matrices de gradients passées en paramètre.\n",
    "# Pour chaque paramètre, l'erreur relative devrait être inférieure à environ 1e-8.\n",
    "def rel_error(x, y):\n",
    "    rel = np.abs(x - y) / (np.maximum(1e-8, np.abs(x) + np.abs(y)))\n",
    "    return np.max(rel)"
   ]
  },
  {
   "cell_type": "markdown",
   "metadata": {},
   "source": [
    "# Dropout: rétro-propagation\n",
    "Toujours dans le fichier `Dropout.py`, codez la rétro-propagation du dropout. Vous pourrez par la suite tester votre code avec la cellule que voici."
   ]
  },
  {
   "cell_type": "code",
   "execution_count": 25,
   "metadata": {},
   "outputs": [
    {
     "data": {
      "text/plain": [
       "2.2136490514694084e-16"
      ]
     },
     "execution_count": 25,
     "metadata": {},
     "output_type": "execute_result"
    }
   ],
   "source": [
    "##############################################################################\n",
    "# TODO: Implémenter la méthode backward (propagation arrière) de la classe de#\n",
    "# couche Dropout. Le comportement lors de l'entraînement et des tests est    #\n",
    "# différent, assurez-vous donc que les deux fonctionnent.                    #\n",
    "##############################################################################\n",
    "\n",
    "X = create_toy_data((10,10))\n",
    "dA = np.random.randn(*X.shape)\n",
    "\n",
    "dropout_layer = Dropout(drop_rate=0.8)\n",
    "\n",
    "_ = dropout_layer.forward(X, mode='train')\n",
    "dX = dropout_layer.backward(dA, mode='train')\n",
    "\n",
    "drop_mask = dropout_layer.cache\n",
    "\n",
    "# L'erreur relative devrait être très petite, inférieure à 1e-8\n",
    "rel_error(dX, drop_mask * dA / 0.2)  # Enlever le 0.2 si vous l'avez inclut dans dropout_layer.cache"
   ]
  },
  {
   "cell_type": "markdown",
   "metadata": {},
   "source": [
    "# Réseau multi-couches avec Dropout\n",
    "En principe, le code que voici devrait fonctionner."
   ]
  },
  {
   "cell_type": "code",
   "execution_count": 37,
   "metadata": {},
   "outputs": [
    {
     "name": "stdout",
     "output_type": "stream",
     "text": [
      "Running check with dropout =  0\n",
      "Initial loss:  2.303136960427925\n",
      "out =  [[-4.59919260e-03  2.24249570e-03 -1.04173991e-03 -5.26610207e-03\n",
      "  -1.10487327e-04  2.44597436e-03  4.64793960e-03 -5.50949288e-04\n",
      "   7.19461508e-04  4.02879988e-04]\n",
      " [-4.49446427e-04  1.26977960e-04  4.28958308e-04 -6.91753755e-04\n",
      "   6.32536428e-04  2.32109844e-04  3.87263858e-04  7.88197382e-04\n",
      "   1.21775137e-04 -1.22665963e-05]]\n",
      "dense1-W max relative error: 9.599900e-07\n",
      "dense1-b max relative error: 4.859826e-09\n",
      "dense2-W max relative error: 5.417810e-06\n",
      "dense2-b max relative error: 2.144697e-09\n",
      "dense3-W max relative error: 6.298536e-07\n",
      "dense3-b max relative error: 1.316700e-10\n",
      "Running check with dropout =  0.25\n",
      "Initial loss:  2.303067476423432\n",
      "out =  [[-1.43714355e-03  0.00000000e+00 -1.66876341e-03  7.23116471e-04\n",
      "   1.06411656e-03  2.56971371e-03  2.24003599e-03 -0.00000000e+00\n",
      "   2.88212755e-03  9.82869006e-04]\n",
      " [-2.85457853e-03 -0.00000000e+00  0.00000000e+00 -9.62211733e-05\n",
      "   1.74164120e-03  4.56992276e-04  1.70415662e-03 -2.05248721e-03\n",
      "  -9.51835766e-04  1.37392534e-03]]\n",
      "dense1-W max relative error: 6.092678e-06\n",
      "dense1-b max relative error: 6.140364e-08\n",
      "dense2-W max relative error: 8.909945e-07\n",
      "dense2-b max relative error: 1.159524e-09\n",
      "dense3-W max relative error: 1.475934e-06\n",
      "dense3-b max relative error: 1.037578e-10\n",
      "Running check with dropout =  0.5\n",
      "Initial loss:  2.3042090746856028\n",
      "out =  [[ 0.00000000e+00 -3.21114117e-05 -1.96873189e-03  3.45506859e-03\n",
      "   0.00000000e+00  0.00000000e+00  0.00000000e+00 -1.55010791e-03\n",
      "   1.30877267e-03  5.38033352e-03]\n",
      " [-0.00000000e+00  1.12490056e-03  2.62661476e-03  0.00000000e+00\n",
      "  -0.00000000e+00  0.00000000e+00 -0.00000000e+00  2.42018584e-03\n",
      "   0.00000000e+00  0.00000000e+00]]\n",
      "dense1-W max relative error: 1.745743e-06\n",
      "dense1-b max relative error: 5.872955e-09\n",
      "dense2-W max relative error: 7.363057e-07\n",
      "dense2-b max relative error: 1.800127e-09\n",
      "dense3-W max relative error: 1.577288e-07\n",
      "dense3-b max relative error: 9.943361e-11\n"
     ]
    }
   ],
   "source": [
    "N, D, H1, H2, C = 2, 15, 20, 30, 10\n",
    "X = np.random.randn(N, D) / 5\n",
    "y = np.random.randint(C, size=(N,))\n",
    "\n",
    "seed = 42\n",
    "\n",
    "for p in [0, 0.25, 0.5]:\n",
    "    print('Running check with dropout = ', p)\n",
    "    model = Model()\n",
    "    \n",
    "    dense1 = Dense(dim_input=D, dim_output=H1, weight_scale=5e-2, activation='relu')\n",
    "    dropout1 = Dropout(drop_rate=p)\n",
    "    \n",
    "    dense2 = Dense(dim_input=H1, dim_output=H2, weight_scale=5e-2, activation='relu')\n",
    "    dropout2 = Dropout(drop_rate=p)\n",
    "    \n",
    "    dense3 = Dense(dim_input=H2, dim_output=C, weight_scale=5e-2)\n",
    "    dropout3 = Dropout(drop_rate=p)\n",
    "    \n",
    "    model.add(dense1, 'dense1')\n",
    "    model.add(dropout1, 'dropout1')\n",
    "    model.add(dense2, 'dense2')\n",
    "    model.add(dropout2, 'dropout2')\n",
    "    model.add(dense3, 'dense3')\n",
    "    model.add(dropout3, 'dropout3')\n",
    "    model.add_loss(cross_entropy_loss)\n",
    "    \n",
    "    \n",
    "    out = model.forward(X, seed=seed)\n",
    "    \n",
    "    loss, dScores, _ = model.calculate_loss(out, y, 0.0)\n",
    "    _ = model.backward(dScores)\n",
    "\n",
    "    gradients = model.gradients()\n",
    "    model_params = model.parameters()\n",
    "    \n",
    "    print('Initial loss: ', loss)\n",
    "    print('out = ', out)\n",
    "    # Les erreurs devraient être inférieures ou égales à 1e-5\n",
    "    for layer_name, layer_params in model_params.items():\n",
    "        for param_name, _ in layer_params.items():\n",
    "            grad_num = evaluate_numerical_gradient(X, y, model, layer_name, param_name, reg=0.0, seed=seed)\n",
    "            max_error = rel_error(grad_num, gradients[layer_name][param_name])\n",
    "\n",
    "            print('%s max relative error: %e' % (layer_name + '-' + param_name, max_error))"
   ]
  },
  {
   "cell_type": "markdown",
   "metadata": {},
   "source": [
    "# Expérimentation\n",
    "Ici nous entrainerons 2 réseaux de neurones avec 500 données: l'un utilisera du dropout et l'autre non. Nous pourrons alors visualiser les justesses obtenues en entraînement et en validation."
   ]
  },
  {
   "cell_type": "code",
   "execution_count": 38,
   "metadata": {},
   "outputs": [
    {
     "name": "stdout",
     "output_type": "stream",
     "text": [
      "\n",
      "Dropout:  0 \n",
      "\n",
      "(epoch 1 / 20) loss: 6.368419, train_acc: 0.396000, val_acc: 0.235000\n",
      "(epoch 2 / 20) loss: 2.850362, train_acc: 0.536000, val_acc: 0.264000\n",
      "(epoch 3 / 20) loss: 1.991403, train_acc: 0.694000, val_acc: 0.288000\n",
      "(epoch 4 / 20) loss: 0.872848, train_acc: 0.858000, val_acc: 0.291000\n",
      "(epoch 5 / 20) loss: 0.692343, train_acc: 0.946000, val_acc: 0.301000\n",
      "(epoch 6 / 20) loss: 0.134229, train_acc: 0.970000, val_acc: 0.299000\n",
      "(epoch 7 / 20) loss: 0.075945, train_acc: 0.998000, val_acc: 0.304000\n",
      "(epoch 8 / 20) loss: 0.061014, train_acc: 0.994000, val_acc: 0.303000\n",
      "(epoch 9 / 20) loss: 0.021047, train_acc: 1.000000, val_acc: 0.295000\n",
      "(epoch 10 / 20) loss: 0.012227, train_acc: 1.000000, val_acc: 0.308000\n",
      "(epoch 11 / 20) loss: 0.020495, train_acc: 1.000000, val_acc: 0.312000\n",
      "(epoch 12 / 20) loss: 0.006422, train_acc: 1.000000, val_acc: 0.309000\n",
      "(epoch 13 / 20) loss: 0.006965, train_acc: 1.000000, val_acc: 0.304000\n",
      "(epoch 14 / 20) loss: 0.006785, train_acc: 1.000000, val_acc: 0.309000\n",
      "(epoch 15 / 20) loss: 0.006315, train_acc: 1.000000, val_acc: 0.315000\n",
      "(epoch 16 / 20) loss: 0.005172, train_acc: 1.000000, val_acc: 0.315000\n",
      "(epoch 17 / 20) loss: 0.003859, train_acc: 1.000000, val_acc: 0.310000\n",
      "(epoch 18 / 20) loss: 0.004303, train_acc: 1.000000, val_acc: 0.309000\n",
      "(epoch 19 / 20) loss: 0.005179, train_acc: 1.000000, val_acc: 0.311000\n",
      "(epoch 20 / 20) loss: 0.003296, train_acc: 1.000000, val_acc: 0.307000\n",
      "\n",
      "Dropout:  0.3 \n",
      "\n",
      "(epoch 1 / 20) loss: 6.919468, train_acc: 0.356000, val_acc: 0.229000\n",
      "(epoch 2 / 20) loss: 7.288859, train_acc: 0.432000, val_acc: 0.257000\n",
      "(epoch 3 / 20) loss: 4.809734, train_acc: 0.610000, val_acc: 0.291000\n",
      "(epoch 4 / 20) loss: 4.296449, train_acc: 0.642000, val_acc: 0.295000\n",
      "(epoch 5 / 20) loss: 3.766050, train_acc: 0.740000, val_acc: 0.270000\n",
      "(epoch 6 / 20) loss: 2.891384, train_acc: 0.806000, val_acc: 0.279000\n",
      "(epoch 7 / 20) loss: 2.204626, train_acc: 0.852000, val_acc: 0.276000\n",
      "(epoch 8 / 20) loss: 1.813338, train_acc: 0.876000, val_acc: 0.292000\n",
      "(epoch 9 / 20) loss: 2.241181, train_acc: 0.902000, val_acc: 0.301000\n",
      "(epoch 10 / 20) loss: 1.547192, train_acc: 0.934000, val_acc: 0.308000\n",
      "(epoch 11 / 20) loss: 1.357873, train_acc: 0.976000, val_acc: 0.307000\n",
      "(epoch 12 / 20) loss: 1.605038, train_acc: 0.962000, val_acc: 0.322000\n",
      "(epoch 13 / 20) loss: 1.471232, train_acc: 0.954000, val_acc: 0.318000\n",
      "(epoch 14 / 20) loss: 1.541610, train_acc: 0.972000, val_acc: 0.307000\n",
      "(epoch 15 / 20) loss: 1.313365, train_acc: 0.976000, val_acc: 0.319000\n",
      "(epoch 16 / 20) loss: 0.873157, train_acc: 0.976000, val_acc: 0.323000\n",
      "(epoch 17 / 20) loss: 1.196927, train_acc: 0.980000, val_acc: 0.318000\n",
      "(epoch 18 / 20) loss: 1.072716, train_acc: 0.980000, val_acc: 0.302000\n",
      "(epoch 19 / 20) loss: 0.674560, train_acc: 0.984000, val_acc: 0.329000\n",
      "(epoch 20 / 20) loss: 1.002316, train_acc: 0.994000, val_acc: 0.318000\n"
     ]
    }
   ],
   "source": [
    "##############################################################################\n",
    "# Tester l'optimiseur Adam (voir fichier model/Solver.py)                    #\n",
    "##############################################################################\n",
    "\n",
    "from model.Solver import epoch_solver, Adam\n",
    "\n",
    "num_train = 500\n",
    "\n",
    "X_train_small = X_train[:num_train]\n",
    "y_train_small = y_train[:num_train]\n",
    "\n",
    "\n",
    "train_accuracy_histories = []\n",
    "val_accuracy_histories = []\n",
    "\n",
    "dropouts = [0, 0.3]\n",
    "\n",
    "for p in dropouts:\n",
    "    model = Model()\n",
    "    \n",
    "    dense1 = Dense(dim_output=500, weight_scale=1e-2, activation='relu')\n",
    "    dropout1 = Dropout(drop_rate=p)\n",
    "    \n",
    "    dense2 = Dense(dim_input=500, weight_scale=1e-2)\n",
    "    dropout2 = Dropout(drop_rate=p)\n",
    "    \n",
    "    model.add(dense1, 'dense1')\n",
    "    model.add(dropout1, 'dropout1')\n",
    "    model.add(dense2, 'dense2')\n",
    "    model.add(dropout2, 'dropout2')\n",
    "    model.add_loss(cross_entropy_loss)\n",
    "    \n",
    "    print('\\nDropout: ', p, '\\n')\n",
    "    \n",
    "    optimizer = Adam(1e-4, model)\n",
    "    \n",
    "    _, train_accuracy_history, val_accuracy_history = epoch_solver(X_train_small, \n",
    "                                                                   y_train_small,\n",
    "                                                                   X_val,\n",
    "                                                                   y_val,\n",
    "                                                                   0.0,\n",
    "                                                                   optimizer,\n",
    "                                                                   epochs=20)\n",
    "    \n",
    "    train_accuracy_histories.append(train_accuracy_history)\n",
    "    val_accuracy_histories.append(val_accuracy_history)"
   ]
  },
  {
   "cell_type": "code",
   "execution_count": 39,
   "metadata": {},
   "outputs": [
    {
     "data": {
      "image/png": "[encoded data removed]",
      "text/plain": [
       "<Figure size 1500x1500 with 2 Axes>"
      ]
     },
     "metadata": {},
     "output_type": "display_data"
    }
   ],
   "source": [
    "plt.subplot(3, 1, 1)\n",
    "for i in range(2):\n",
    "  plt.plot(train_accuracy_histories[i], '-', label='%.2f dropout' % dropouts[i])\n",
    "plt.title('Train accuracy')\n",
    "plt.xlabel('Epoch')\n",
    "plt.ylabel('Accuracy')\n",
    "plt.legend(ncol=2, loc='lower right')\n",
    "  \n",
    "plt.subplot(3, 1, 2)\n",
    "for i in range(2):\n",
    "  plt.plot(val_accuracy_histories[i], '-', label='%.2f dropout' % dropouts[i])\n",
    "plt.title('Val accuracy')\n",
    "plt.xlabel('Epoch')\n",
    "plt.ylabel('Accuracy')\n",
    "plt.legend(ncol=2, loc='lower right')\n",
    "\n",
    "plt.gcf().set_size_inches(15, 15)\n",
    "plt.show()"
   ]
  },
  {
   "cell_type": "code",
   "execution_count": null,
   "metadata": {},
   "outputs": [],
   "source": []
  }
 ],
 "metadata": {
  "kernelspec": {
   "display_name": "Python 3 (ipykernel)",
   "language": "python",
   "name": "python3"
  },
  "language_info": {
   "codemirror_mode": {
    "name": "ipython",
    "version": 3
   },
   "file_extension": ".py",
   "mimetype": "text/x-python",
   "name": "python",
   "nbconvert_exporter": "python",
   "pygments_lexer": "ipython3",
   "version": "3.11.0"
  }
 },
 "nbformat": 4,
 "nbformat_minor": 4
}
